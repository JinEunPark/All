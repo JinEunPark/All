{
  "nbformat": 4,
  "nbformat_minor": 0,
  "metadata": {
    "colab": {
      "provenance": [],
      "authorship_tag": "ABX9TyNQJJcnV9k8djAPqg3JiEcr",
      "include_colab_link": true
    },
    "kernelspec": {
      "name": "python3",
      "display_name": "Python 3"
    },
    "language_info": {
      "name": "python"
    }
  },
  "cells": [
    {
      "cell_type": "markdown",
      "metadata": {
        "id": "view-in-github",
        "colab_type": "text"
      },
      "source": [
        "<a href=\"https://colab.research.google.com/github/JinEunPark/All/blob/master/201811027_%EB%B0%95%EC%A7%84%EC%9D%80.ipynb\" target=\"_parent\"><img src=\"https://colab.research.google.com/assets/colab-badge.svg\" alt=\"Open In Colab\"/></a>"
      ]
    },
    {
      "cell_type": "code",
      "execution_count": null,
      "metadata": {
        "id": "evQhKhYxuA3u"
      },
      "outputs": [],
      "source": []
    },
    {
      "cell_type": "code",
      "source": [
        "print(12+37) # +는 두 정수를 더하는 연산자\n",
        "print('python'+' is exciting.') # +는 두 문자열을 접합하는 연산자\n",
        "\n",
        "# 라이브러리 불러오기\n",
        "import random # random이라는 라이브러리를 불러옴\n",
        "\n",
        "# 정수 난수 생성\n",
        "a=random.randint(10,20) # [10,20] 사이의 난수를 생성하고 변수 a에 대입\n",
        "b=random.randint(10,20) # [10,20] 사이의 난수를 생성하고 변수 b에 대입\n",
        "\n",
        "# 덧셈을 하고 결과를 출력\n",
        "c=a+b # a와 b를 더하여 변수 c에 대입\n",
        "print(a,b,c) # 변수 a, b, c를 출력\n"
      ],
      "metadata": {
        "colab": {
          "base_uri": "https://localhost:8080/"
        },
        "id": "128n3U6juHCI",
        "outputId": "8d8217a7-6e6f-4576-9f18-24810396d91d"
      },
      "execution_count": 1,
      "outputs": [
        {
          "output_type": "stream",
          "name": "stdout",
          "text": [
            "49\n",
            "python is exciting.\n",
            "17 13 30\n"
          ]
        }
      ]
    }
  ]
}